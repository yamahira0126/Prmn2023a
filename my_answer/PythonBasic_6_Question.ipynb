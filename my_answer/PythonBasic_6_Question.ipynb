{
  "nbformat": 4,
  "nbformat_minor": 0,
  "metadata": {
    "colab": {
      "provenance": [],
      "include_colab_link": true
    },
    "kernelspec": {
      "name": "python3",
      "display_name": "Python 3"
    },
    "language_info": {
      "name": "python"
    }
  },
  "cells": [
    {
      "cell_type": "markdown",
      "metadata": {
        "id": "view-in-github",
        "colab_type": "text"
      },
      "source": [
        "<a href=\"https://colab.research.google.com/github/yamahira0126/Prmn2023a/blob/main/my_answer/PythonBasic_6_Question.ipynb\" target=\"_parent\"><img src=\"https://colab.research.google.com/assets/colab-badge.svg\" alt=\"Open In Colab\"/></a>"
      ]
    },
    {
      "cell_type": "markdown",
      "source": [
        "<a href=\"https://colab.research.google.com/github/kiryu-3/Prmn2023/blob/main/Python/Python_Basic/question/PythonBasic_6_Question.ipynb\" target=\"_parent\"><img src=\"https://colab.research.google.com/assets/colab-badge.svg\" alt=\"Open In Colab\"/></a>"
      ],
      "metadata": {
        "id": "TA5kKi-LY1xg"
      }
    },
    {
      "cell_type": "markdown",
      "source": [
        "# 第6章 課題"
      ],
      "metadata": {
        "id": "r-kcfL2yEU8b"
      }
    },
    {
      "cell_type": "markdown",
      "source": [
        "## 課題1"
      ],
      "metadata": {
        "id": "UqgRlaNaaWsU"
      }
    },
    {
      "cell_type": "markdown",
      "source": [
        "こちらはピコ太郎さんの「PPAP」という歌の歌詞です"
      ],
      "metadata": {
        "id": "3iPqvgvTmxUd"
      }
    },
    {
      "cell_type": "code",
      "execution_count": 43,
      "metadata": {
        "id": "gr4NZhjKSoPt"
      },
      "outputs": [],
      "source": [
        "text = \"\"\"PPAP\n",
        "I have a pen.\n",
        "I have an apple.\n",
        "Apple pen！\n",
        "I have a pen.\n",
        "I have a pineapple.\n",
        "Pineapple pen！\n",
        "Apple pen.\n",
        "Pineapple pen.\n",
        "Pen-pineapple-Apple-pen！\"\"\""
      ]
    },
    {
      "cell_type": "markdown",
      "source": [
        "上の文字列の単語の登場回数を数え、  \n",
        "出現回数の多い順にソートしたディクショナリを関数で返してください\n",
        "\n",
        "その後、そのディクショナリを出力してください"
      ],
      "metadata": {
        "id": "DuphFapxhvik"
      }
    },
    {
      "cell_type": "markdown",
      "source": [
        "大文字小文字が混ざっていますが、全て小文字に変換してください"
      ],
      "metadata": {
        "id": "MR5bMn1d0X_3"
      }
    },
    {
      "cell_type": "markdown",
      "source": [
        "＜実行結果＞  \n",
        "``` py\n",
        "{'pen': 8, 'i': 4, 'have': 4, 'apple': 4, 'pineapple': 4, 'a': 3, 'ppap': 1, 'an': 1}\n",
        "```"
      ],
      "metadata": {
        "id": "0Z2-_1dAQENU"
      }
    },
    {
      "cell_type": "code",
      "source": [
        "# 入力用\n",
        "import string\n",
        "\n",
        "def word_count(text):\n",
        "  text = text.replace('！', ' ')\n",
        "  text = text.replace('-', ' ')\n",
        "  text=text.translate(str.maketrans('', '', string.punctuation))\n",
        "  text = text.lower().split()\n",
        "  list=[]\n",
        "  for i in text:\n",
        "    if(i not in list):\n",
        "      list.append(i)\n",
        "  counts={}\n",
        "  for i in text:\n",
        "    if(i not in counts):\n",
        "      counts[i]=1\n",
        "    else:\n",
        "      counts[i]=counts[i]+1\n",
        "    \n",
        "  index=sorted(counts.values(),reverse=True)\n",
        "  new_list={}\n",
        "  for i in index:\n",
        "    for j in counts.keys():\n",
        "      if(counts[j]==i):\n",
        "        new_list[j]=i\n",
        "\n",
        "\n",
        " \n",
        "\n",
        "  return new_list\n",
        "\n",
        "\n",
        "\n",
        "\n",
        "# メイン部分の一例\n",
        "sorted_dic = word_count(text)\n",
        "print(sorted_dic)"
      ],
      "metadata": {
        "id": "ficNVfkgR5Kv",
        "colab": {
          "base_uri": "https://localhost:8080/"
        },
        "outputId": "aaf86c0c-e413-4435-c76a-d374beeb2d3c"
      },
      "execution_count": 76,
      "outputs": [
        {
          "output_type": "stream",
          "name": "stdout",
          "text": [
            "{'pen': 8, 'i': 4, 'have': 4, 'apple': 4, 'pineapple': 4, 'a': 3, 'ppap': 1, 'an': 1}\n"
          ]
        }
      ]
    },
    {
      "cell_type": "markdown",
      "source": [
        "### 課題1の補足"
      ],
      "metadata": {
        "id": "DzogBUbNsrMN"
      }
    },
    {
      "cell_type": "markdown",
      "source": [
        "以下の文字列の分割方法について説明します。"
      ],
      "metadata": {
        "id": "JfgciChzstnh"
      }
    },
    {
      "cell_type": "code",
      "source": [
        "test_text = \"Pen-pineapple-Apple-pen！\""
      ],
      "metadata": {
        "id": "bjoi1QqQs1fb"
      },
      "execution_count": null,
      "outputs": []
    },
    {
      "cell_type": "markdown",
      "source": [
        "`string.punctuation`という定数は、英文の句読点や記号などを含む特殊な文字の集合を表す定数です。"
      ],
      "metadata": {
        "id": "MY4_tDdgtBRx"
      }
    },
    {
      "cell_type": "code",
      "source": [
        "import string\n",
        "string.punctuation"
      ],
      "metadata": {
        "colab": {
          "base_uri": "https://localhost:8080/",
          "height": 36
        },
        "id": "YtLAWBb7uQYQ",
        "outputId": "cb9428fb-3b10-4ca4-8f28-07a52f08c4bd"
      },
      "execution_count": 45,
      "outputs": [
        {
          "output_type": "execute_result",
          "data": {
            "text/plain": [
              "'!\"#$%&\\'()*+,-./:;<=>?@[\\\\]^_`{|}~'"
            ],
            "application/vnd.google.colaboratory.intrinsic+json": {
              "type": "string"
            }
          },
          "metadata": {},
          "execution_count": 45
        }
      ]
    },
    {
      "cell_type": "markdown",
      "source": [
        "`translate(str.maketrans('', '', string.punctuation))`を文字列に適用することで、  \n",
        "\" 半角の特殊文字 \" を除去することができます。\n",
        "\n",
        "文字列を処理する際によく使われる表現です。"
      ],
      "metadata": {
        "id": "OqWV7BOYu8Dn"
      }
    },
    {
      "cell_type": "code",
      "source": [
        "import string\n",
        "\n",
        "test_text = \"Pen-pineapple-Apple-pen！\"\n",
        "print(f\"特殊文字削除前：{test_text}\")\n",
        "\n",
        "# 特殊文字を除去する\n",
        "test_text = test_text.translate(str.maketrans('', '', string.punctuation))\n",
        "\n",
        "print(f\"特殊文字削除後：{test_text}\")"
      ],
      "metadata": {
        "colab": {
          "base_uri": "https://localhost:8080/"
        },
        "id": "_jUMSdbfvo98",
        "outputId": "d7d05a20-d7c9-4195-caa4-0662fd817bb2"
      },
      "execution_count": null,
      "outputs": [
        {
          "output_type": "stream",
          "name": "stdout",
          "text": [
            "特殊文字削除前：Pen-pineapple-Apple-pen！\n",
            "特殊文字削除後：PenpineappleApplepen！\n"
          ]
        }
      ]
    },
    {
      "cell_type": "markdown",
      "source": [
        "特殊文字 \"-\" を除去できました。\n",
        "\n",
        "\"！\"は全角文字なので、除去することができていません。  \n",
        "これは空文字で置き換えてしまいましょう。"
      ],
      "metadata": {
        "id": "66WUalFgwLmz"
      }
    },
    {
      "cell_type": "code",
      "source": [
        "import string\n",
        "\n",
        "test_text = \"Pen-pineapple-Apple-pen！\"\n",
        "print(f\"特殊文字削除前：{test_text}\")\n",
        "\n",
        "# \"！\"を空文字に置き換える\n",
        "test_text = test_text.replace('！', '')\n",
        "# 特殊文字を除去する\n",
        "test_text = test_text.translate(str.maketrans('', '', string.punctuation))\n",
        "\n",
        "print(f\"特殊文字削除後：{test_text}\")"
      ],
      "metadata": {
        "colab": {
          "base_uri": "https://localhost:8080/"
        },
        "id": "qU70uV_Owg4T",
        "outputId": "2b5c53f7-7de4-46f6-c3b2-2fc3d56dba74"
      },
      "execution_count": 48,
      "outputs": [
        {
          "output_type": "stream",
          "name": "stdout",
          "text": [
            "特殊文字削除前：Pen-pineapple-Apple-pen！\n",
            "特殊文字削除後：PenpineappleApplepen\n"
          ]
        }
      ]
    },
    {
      "cell_type": "markdown",
      "source": [
        "このように除去すると`PenpineappleApplepen`が一つの単語になってしまいます。\n",
        "\n",
        "そのため特殊文字を除去する前に \" - \" を空白に置き換えましょう。"
      ],
      "metadata": {
        "id": "eHcSTGMAw3oR"
      }
    },
    {
      "cell_type": "code",
      "source": [
        "import string\n",
        "\n",
        "test_text = \"Pen-pineapple-Apple-pen！\"\n",
        "print(f\"特殊文字削除前：{test_text}\")\n",
        "\n",
        "# \"！\"を空文字に置き換える\n",
        "test_text = test_text.replace('！', '')\n",
        "# \"-\"を空白に置き換える\n",
        "test_text = test_text.replace('-', ' ')\n",
        "# 特殊文字を除去する\n",
        "test_text = test_text.translate(str.maketrans('', '', string.punctuation))\n",
        "\n",
        "print(f\"特殊文字削除後：{test_text}\")"
      ],
      "metadata": {
        "colab": {
          "base_uri": "https://localhost:8080/"
        },
        "id": "JQZ4wUvMxXLi",
        "outputId": "251e59b1-df19-45d3-9bbc-5f9d07017845"
      },
      "execution_count": null,
      "outputs": [
        {
          "output_type": "stream",
          "name": "stdout",
          "text": [
            "特殊文字削除前：Pen-pineapple-Apple-pen！\n",
            "特殊文字削除後：Pen pineapple Apple pen\n"
          ]
        }
      ]
    },
    {
      "cell_type": "markdown",
      "source": [
        "このようにして単語を分けていきます。\n",
        "\n",
        "後は単語を分けていくだけですが、今回は大文字と小文字が混在しているので、  \n",
        "全て小文字にしてからカウントしましょう。"
      ],
      "metadata": {
        "id": "t_K_D_kix1Ww"
      }
    },
    {
      "cell_type": "code",
      "source": [
        "import string\n",
        "\n",
        "test_text = \"Pen-pineapple-Apple-pen！\"\n",
        "print(f\"特殊文字削除前：{test_text}\")\n",
        "\n",
        "# \"！\"を空文字に置き換える\n",
        "test_text = test_text.replace('！', '')\n",
        "# \"-\"を空白に置き換える\n",
        "test_text = test_text.replace('-', ' ')\n",
        "# 特殊文字を除去する\n",
        "test_text = test_text.translate(str.maketrans('', '', string.punctuation))\n",
        "\n",
        "# 単語を小文字に変換し、「改行・空白」で文字列を分割する\n",
        "test_text = test_text.lower().split()\n",
        "\n",
        "print(f\"特殊文字削除後：{test_text}\")"
      ],
      "metadata": {
        "colab": {
          "base_uri": "https://localhost:8080/"
        },
        "id": "ynG38NTvyG4v",
        "outputId": "6fad65c1-3ace-42e5-bf16-26581d55daec"
      },
      "execution_count": 49,
      "outputs": [
        {
          "output_type": "stream",
          "name": "stdout",
          "text": [
            "特殊文字削除前：Pen-pineapple-Apple-pen！\n",
            "特殊文字削除後：['pen', 'pineapple', 'apple', 'pen']\n"
          ]
        }
      ]
    },
    {
      "cell_type": "markdown",
      "source": [
        "## 課題2"
      ],
      "metadata": {
        "id": "HZlVs9Vivt7d"
      }
    },
    {
      "cell_type": "markdown",
      "source": [
        "成績評価を0~5の6段階でつけたいものとします。  \n",
        "\n",
        "|成績|点数|\n",
        "|:---| :--- |\n",
        "|$A$|5|\n",
        "|$B^{+}$|4|\n",
        "|$B$|3|\n",
        "|$B^{-}$|2|\n",
        "|$C^{+}$|1|\n",
        "|$C$|0|\n"
      ],
      "metadata": {
        "id": "bIsZE1q0vwyd"
      }
    },
    {
      "cell_type": "markdown",
      "source": [
        "上表のように成績を変換する関数を作成してください  "
      ],
      "metadata": {
        "id": "g8y7FrrIM0XM"
      }
    },
    {
      "cell_type": "markdown",
      "source": [
        "この科目は、「5×全15回=最大点75点」に、  \n",
        "「全14回×50点=最大点700点を25点に圧縮したもの」の和によって成績判定を行います。"
      ],
      "metadata": {
        "id": "sGR63Lq9M3QE"
      }
    },
    {
      "cell_type": "markdown",
      "source": [
        "適切に関数を使い、以下のデータの成績評価を行えるようにしてください\n",
        "\n",
        "\n"
      ],
      "metadata": {
        "id": "i9d5cECuwYJU"
      }
    },
    {
      "cell_type": "markdown",
      "source": [
        "＜例＞  \n",
        "小テストの合計点は600点だったので25点満点に圧縮すると21.42点  \n",
        "課題は全て$B^+$評価だったので4×15=60点  \n",
        "合計点81.42点なので評定は「優」"
      ],
      "metadata": {
        "id": "KJB5H4Xsaj0g"
      }
    },
    {
      "cell_type": "code",
      "source": [
        "seiseki_data = {\"課題\" : [\"B+\",\"A\",\"B+\",\"A\",\"A\",\"A\",\"A\",\"A\",\"B+\",\"A\",\n",
        "                       \"A\",\"B+\",\"A\",\"B+\",\"A\"] ,\n",
        "             \"小テスト\" : [50,50,50,15,40,50,50,50,50,\n",
        "                           15,45,40,50,50]\n",
        "             }"
      ],
      "metadata": {
        "id": "5rhhPCjGxPxP"
      },
      "execution_count": 1,
      "outputs": []
    },
    {
      "cell_type": "code",
      "source": [
        "from os import supports_follow_symlinks\n",
        "# 入力用\n",
        "def seiseki(seiseki_data):\n",
        "  seiseki_hyouka={'A':5,'B+':4,'B':3,'B-':2,'C+':1,'C':0}\n",
        "  test_point=seiseki_data['小テスト']\n",
        "  kadai_point=seiseki_data['課題']\n",
        "  test_sum=0\n",
        "  kadai_sum=0\n",
        "  for test in test_point:\n",
        "    test_sum=test_sum+test\n",
        "  for kadai in kadai_point:\n",
        "    kadai_sum=kadai_sum+seiseki_hyouka[kadai]\n",
        "  point=test_sum/700*25+kadai_sum\n",
        "  print(f'{point}:',end='')\n",
        "  if(point>=90):\n",
        "    print('秀')\n",
        "  elif(point>=80):\n",
        "    print('優')\n",
        "  elif(point>=70):\n",
        "    print('良')\n",
        "  elif(point>=60):\n",
        "    print('可')\n",
        "  else:\n",
        "    print('不可')\n",
        "  \n",
        "\n",
        "  return;\n",
        "\n",
        "seiseki(seiseki_data)"
      ],
      "metadata": {
        "id": "i_c6mOJq8P1_",
        "colab": {
          "base_uri": "https://localhost:8080/"
        },
        "outputId": "50023ecd-c9da-4e60-f91c-eaa3a87b181e"
      },
      "execution_count": 22,
      "outputs": [
        {
          "output_type": "stream",
          "name": "stdout",
          "text": [
            "91.60714285714286:秀\n"
          ]
        }
      ]
    },
    {
      "cell_type": "markdown",
      "source": [
        "### 課題2 補足"
      ],
      "metadata": {
        "id": "E8ZRqBlkGW2D"
      }
    },
    {
      "cell_type": "markdown",
      "source": [
        "文字列を置換したいときは**`replace`メソッド**を使います。  \n",
        "\n",
        "複数回行いたいときは`replace`メソッドを複数回続けます。"
      ],
      "metadata": {
        "id": "s4IPiuNZGd96"
      }
    },
    {
      "cell_type": "code",
      "source": [
        "hantei_list = [\"60\",\"70\",\"80\",\"90\"]\n",
        "kekka_list = []\n",
        "\n",
        "\"\"\"\n",
        "リストから要素を取り出して指定の値を置換する\n",
        "\"\"\"\n",
        "for hantei in hantei_list:\n",
        "  hantei = hantei.replace(\"60\",\"可\").replace(\"70\",\"良\").replace(\"80\",\"優\").replace(\"90\",\"秀\")\n",
        "  kekka_list.append(hantei)\n",
        "\n",
        "print(kekka_list)"
      ],
      "metadata": {
        "colab": {
          "base_uri": "https://localhost:8080/"
        },
        "id": "83OyhJkDGupg",
        "outputId": "f242a522-4daf-4bf7-a2ec-76a9b2b8c04a"
      },
      "execution_count": null,
      "outputs": [
        {
          "output_type": "stream",
          "name": "stdout",
          "text": [
            "['可', '良', '優', '秀']\n"
          ]
        }
      ]
    },
    {
      "cell_type": "markdown",
      "source": [
        "## 課題3"
      ],
      "metadata": {
        "id": "b9E8y6dGMRgE"
      }
    },
    {
      "cell_type": "markdown",
      "source": [
        "GPAを計算したいものとします。  \n",
        "成績に付与されるGPは以下の通りです。\n",
        "\n",
        "|成績|GP|\n",
        "|:---| :--- |\n",
        "|秀|4|\n",
        "|優|3|\n",
        "|良|2|\n",
        "|可|1|\n",
        "|不可|0|"
      ],
      "metadata": {
        "id": "wimEVJZUMWoL"
      }
    },
    {
      "cell_type": "markdown",
      "source": [
        "上表のように成績を変換する関数を作成してください "
      ],
      "metadata": {
        "id": "vLfMefKLNZsq"
      }
    },
    {
      "cell_type": "markdown",
      "source": [
        "GPAの計算式は以下の通りです。  \n",
        "$$\n",
        "\\frac{(GP×そのGPの単位数) の合計}{履修単位数} \n",
        "$$"
      ],
      "metadata": {
        "id": "pJ-Cltm9NbZ6"
      }
    },
    {
      "cell_type": "markdown",
      "source": [
        "以下のタプルは一単位の科目を集めたものです。  \n",
        "そのほかの科目は全て二単位です。"
      ],
      "metadata": {
        "id": "vColSqfIN8PI"
      }
    },
    {
      "cell_type": "code",
      "source": [
        "one_unit_class = (\"キャリア形成Ａ１（Ａ）\",\"千歳学(Ａ)\",\"言語リテラシー１(Ａ)\",\n",
        "                  \"理工学基礎実験１（Ａ）\",\"スポーツ総合１(Ａ)\",\"健康科学(Ａ・Ｂ)\")"
      ],
      "metadata": {
        "id": "xL2nPwOVGs4u"
      },
      "execution_count": 23,
      "outputs": []
    },
    {
      "cell_type": "markdown",
      "source": [
        "適切に関数を使い、以下のデータのGPAを算出してください"
      ],
      "metadata": {
        "id": "k_jm9pzkOFAw"
      }
    },
    {
      "cell_type": "code",
      "source": [
        "seiseki_data = {\"授業\":[\"物理学入門(Ａ・Ｂ)\",\"化学入門(Ａ・Ｂ)\",\"エレクトロニクス入門(Ａ・Ｂ)\",\n",
        "                      \"情報学基礎演習(Ａ)\",\"キャリア形成Ａ１（Ａ）\",\"千歳学(Ａ)\",\n",
        "                      \"言語リテラシー１(Ａ)\",\"微分積分学Ⅰ（Ａ）\",\"理工学基礎実験１（Ａ）\",\n",
        "                      \"理系のための基礎英語Ⅰ(Ａ)\",\"日本国憲法(遠隔)\",\"スポーツ総合１(Ａ)\",\n",
        "                      \"健康科学(Ａ・Ｂ)\"],\n",
        "              \n",
        "              \"成績\":[\"良\",\"秀\",\"秀\",\"秀\",\"秀\",\"秀\",\"秀\",\"優\",\"優\",\"秀\",\"秀\",\"優\",\"優\"]\n",
        "              }"
      ],
      "metadata": {
        "id": "hzQ83qvxHubl"
      },
      "execution_count": 25,
      "outputs": []
    },
    {
      "cell_type": "code",
      "source": [
        "# 入力用\n",
        "def hyouka(seiseki_data):\n",
        "  jugyo_data=seiseki_data['授業']\n",
        "  seiseki=seiseki_data['成績']\n",
        "  hyouka_dic={'秀':4,'優':3,'良':2,'可':1,'不可':0}\n",
        "  seiseki_sum=0\n",
        "  tani_sum=0\n",
        "  for point in range(len(seiseki)):\n",
        "    if(jugyo_data[point] in one_unit_class):\n",
        "      seiseki_sum=seiseki_sum+hyouka_dic[seiseki[point]]\n",
        "      tani_sum=tani_sum+1\n",
        "    else:\n",
        "      seiseki_sum=seiseki_sum+2*hyouka_dic[seiseki[point]]\n",
        "      tani_sum=tani_sum+2\n",
        "  GPA=seiseki_sum/tani_sum\n",
        "  print(f'GPA:{GPA}')\n",
        "  return;\n",
        "\n",
        "\n",
        "hyouka(seiseki_data)"
      ],
      "metadata": {
        "id": "fABnfUJzPgLw",
        "colab": {
          "base_uri": "https://localhost:8080/"
        },
        "outputId": "5cde6634-8efc-425b-c49d-e34554689582"
      },
      "execution_count": 40,
      "outputs": [
        {
          "output_type": "stream",
          "name": "stdout",
          "text": [
            "GPA:3.55\n"
          ]
        }
      ]
    }
  ]
}