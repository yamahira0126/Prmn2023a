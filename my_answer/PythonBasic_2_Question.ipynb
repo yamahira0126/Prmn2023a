{
  "nbformat": 4,
  "nbformat_minor": 0,
  "metadata": {
    "colab": {
      "provenance": [],
      "toc_visible": true,
      "include_colab_link": true
    },
    "kernelspec": {
      "name": "python3",
      "display_name": "Python 3"
    },
    "language_info": {
      "name": "python"
    }
  },
  "cells": [
    {
      "cell_type": "markdown",
      "metadata": {
        "id": "view-in-github",
        "colab_type": "text"
      },
      "source": [
        "<a href=\"https://colab.research.google.com/github/yamahira0126/Prmn2023a/blob/main/my_answer/PythonBasic_2_Question.ipynb\" target=\"_parent\"><img src=\"https://colab.research.google.com/assets/colab-badge.svg\" alt=\"Open In Colab\"/></a>"
      ]
    },
    {
      "cell_type": "markdown",
      "source": [
        "# 第2章 課題"
      ],
      "metadata": {
        "id": "C44SsXDACtHu"
      }
    },
    {
      "cell_type": "markdown",
      "source": [
        "## 課題1"
      ],
      "metadata": {
        "id": "OnkezWHRCwr9"
      }
    },
    {
      "cell_type": "markdown",
      "source": [
        "for文を使って、以下のように出力してください"
      ],
      "metadata": {
        "id": "q32rK-cECzCl"
      }
    },
    {
      "cell_type": "markdown",
      "source": [
        "![oSFeQoX.png](https://i.imgur.com/oSFeQoX.png)"
      ],
      "metadata": {
        "id": "FxMcxznVB6cI"
      }
    },
    {
      "cell_type": "code",
      "source": [
        "# 入力用\n",
        "\n",
        "for i in range(4):\n",
        "  s=''\n",
        "  sp=''\n",
        "  for j in range(3-i):\n",
        "    sp=sp+' '\n",
        "  for k in range(i*2+1):\n",
        "   s=s+'*'\n",
        "  print(sp+s)"
      ],
      "metadata": {
        "id": "iBFSsrdRC5Zt",
        "colab": {
          "base_uri": "https://localhost:8080/"
        },
        "outputId": "c66ed38b-a138-4012-f5fd-4be1e992caed"
      },
      "execution_count": null,
      "outputs": [
        {
          "output_type": "stream",
          "name": "stdout",
          "text": [
            "   *\n",
            "  ***\n",
            " *****\n",
            "*******\n"
          ]
        }
      ]
    },
    {
      "cell_type": "markdown",
      "source": [
        "## 課題2"
      ],
      "metadata": {
        "id": "gIn-UqGTCagu"
      }
    },
    {
      "cell_type": "markdown",
      "source": [
        "課題1の場合を`n=4`として、nを自分で設定して出力できるようにしてください"
      ],
      "metadata": {
        "id": "ltdiEdqYDFy8"
      }
    },
    {
      "cell_type": "markdown",
      "source": [
        "＜例＞ n=5の場合  \n",
        "![o5NjugQ.png](https://imgur.com/o5NjugQ.png)"
      ],
      "metadata": {
        "id": "hw0FM8BRDHz1"
      }
    },
    {
      "cell_type": "code",
      "source": [
        "# 入力用\n",
        "n=int(input('nを入力：'))\n",
        "\n",
        "for i in range(n):\n",
        "  s=''\n",
        "  sp=''\n",
        "  for j in range(n-1-i):\n",
        "    sp=sp+' '\n",
        "  for k in range(i*2+1):\n",
        "   s=s+'*'\n",
        "  print(sp+s)"
      ],
      "metadata": {
        "id": "upd76Tv-FrIB",
        "colab": {
          "base_uri": "https://localhost:8080/"
        },
        "outputId": "b3515d24-efd0-4936-8d42-c07655e501a1"
      },
      "execution_count": null,
      "outputs": [
        {
          "output_type": "stream",
          "name": "stdout",
          "text": [
            "nを入力：5\n",
            "    *\n",
            "   ***\n",
            "  *****\n",
            " *******\n",
            "*********\n"
          ]
        }
      ]
    },
    {
      "cell_type": "markdown",
      "source": [
        "## 課題3"
      ],
      "metadata": {
        "id": "tLMJvwBDE7wT"
      }
    },
    {
      "cell_type": "markdown",
      "source": [
        "for文を使って、以下のように出力してください"
      ],
      "metadata": {
        "id": "vZNvWsG7E99q"
      }
    },
    {
      "cell_type": "markdown",
      "source": [
        "![oSirXec.png](https://imgur.com/oSirXec.png)"
      ],
      "metadata": {
        "id": "ijOV-ilXGDNR"
      }
    },
    {
      "cell_type": "code",
      "source": [
        "# 入力用\n",
        "for i in range(7):\n",
        "  s=''\n",
        "  sp=''\n",
        "  for j in range(abs(3-i)):\n",
        "    sp=sp+' '\n",
        "  for k in range(7-abs(3-i)*2):\n",
        "    s=s+'*'\n",
        "  print(sp+s)"
      ],
      "metadata": {
        "id": "Q5Ob9uZpGIE3",
        "colab": {
          "base_uri": "https://localhost:8080/"
        },
        "outputId": "59f0d268-387b-454a-8b1d-dd3247005f1c"
      },
      "execution_count": null,
      "outputs": [
        {
          "output_type": "stream",
          "name": "stdout",
          "text": [
            "   *\n",
            "  ***\n",
            " *****\n",
            "*******\n",
            " *****\n",
            "  ***\n",
            "   *\n"
          ]
        }
      ]
    },
    {
      "cell_type": "markdown",
      "source": [
        "## 課題4"
      ],
      "metadata": {
        "id": "Oh7whOPkGQ3I"
      }
    },
    {
      "cell_type": "markdown",
      "source": [
        "課題3の場合を`n=4`として、nを自分で設定して出力できるようにしてください"
      ],
      "metadata": {
        "id": "PnvT8MQbGS03"
      }
    },
    {
      "cell_type": "markdown",
      "source": [
        "＜例＞ n=5の場合  \n",
        "\n",
        "![my4J17V.png](https://i.imgur.com/my4J17V.png)"
      ],
      "metadata": {
        "id": "ZujkAbVMGzhn"
      }
    },
    {
      "cell_type": "code",
      "source": [
        "# 入力用\n",
        "n=int(input('nを入力：'))\n",
        "\n",
        "for i in range(n*2-1):\n",
        "  s=''\n",
        "  sp=''\n",
        "  for j in range(abs(n-1-i)):\n",
        "    sp=sp+' '\n",
        "  for k in range(n*2-1-abs(n-1-i)*2):\n",
        "    s=s+'*'\n",
        "  print(sp+s)"
      ],
      "metadata": {
        "id": "hCFNQ7mWG99u",
        "colab": {
          "base_uri": "https://localhost:8080/"
        },
        "outputId": "493a8928-3473-45ae-bfa8-8b79f049d255"
      },
      "execution_count": null,
      "outputs": [
        {
          "output_type": "stream",
          "name": "stdout",
          "text": [
            "nを入力：2\n",
            " *\n",
            "***\n",
            " *\n"
          ]
        }
      ]
    },
    {
      "cell_type": "markdown",
      "source": [
        "## 課題5"
      ],
      "metadata": {
        "id": "R2MvOK4wHJlK"
      }
    },
    {
      "cell_type": "markdown",
      "source": [
        "for文を使って、以下のように出力してください"
      ],
      "metadata": {
        "id": "ddMIUoaKHcwd"
      }
    },
    {
      "cell_type": "markdown",
      "source": [
        "![vDUi5eM.png](https://imgur.com/vDUi5eM.png)"
      ],
      "metadata": {
        "id": "CD1cVUlWHLVO"
      }
    },
    {
      "cell_type": "code",
      "source": [
        "# 入力用\n",
        "for a in range(7):\n",
        "  s=''\n",
        "  sp=''\n",
        "  spc=''\n",
        "  for b in range(abs(3-a)):\n",
        "    sp=sp+' '\n",
        "  if(a!=3):\n",
        "   for c in range(abs(3-a)*2-1):\n",
        "     spc=spc+' '\n",
        "   for d in range(7-abs(3-a)*2):\n",
        "      s=s+'*'\n",
        "   print(sp+s+spc+s+sp)\n",
        "  else:\n",
        "    for d in range(13):\n",
        "      s=s+'*'\n",
        "    print(s)"
      ],
      "metadata": {
        "id": "1pDkfJpUHd93",
        "colab": {
          "base_uri": "https://localhost:8080/"
        },
        "outputId": "af83631a-af0d-46b3-d205-613631ea0c83"
      },
      "execution_count": null,
      "outputs": [
        {
          "output_type": "stream",
          "name": "stdout",
          "text": [
            "   *     *   \n",
            "  ***   ***  \n",
            " ***** ***** \n",
            "*************\n",
            " ***** ***** \n",
            "  ***   ***  \n",
            "   *     *   \n"
          ]
        }
      ]
    },
    {
      "cell_type": "markdown",
      "source": [
        "## 課題6"
      ],
      "metadata": {
        "id": "oubbafOBHerl"
      }
    },
    {
      "cell_type": "markdown",
      "source": [
        "課題5の場合を`n=4`として、nを自分で設定して出力できるようにしてください"
      ],
      "metadata": {
        "id": "7SzgFdC-HzG9"
      }
    },
    {
      "cell_type": "markdown",
      "source": [
        "＜例＞ n=5の場合  \n",
        "\n",
        "![udkVlYG.png](https://imgur.com/udkVlYG.png)"
      ],
      "metadata": {
        "id": "LY8g9PVPH2OW"
      }
    },
    {
      "cell_type": "code",
      "source": [
        "# 入力用\n",
        "n=int(input('nを入力：'))\n",
        "for a in range(n*2-1):\n",
        "  s=''\n",
        "  sp=''\n",
        "  spc=''\n",
        "  for b in range(abs(n-1-a)):\n",
        "    sp=sp+' '\n",
        "  if(a!=n-1):\n",
        "   for c in range(abs(n-1-a)*2-1):\n",
        "     spc=spc+' '\n",
        "   for d in range(n*2-1-abs(n-1-a)*2):\n",
        "      s=s+'*'\n",
        "   print(sp+s+spc+s+sp)\n",
        "  else:\n",
        "    for d in range(n*4-3):\n",
        "      s=s+'*'\n",
        "    print(s)"
      ],
      "metadata": {
        "id": "XZOK5ulbH-tu",
        "colab": {
          "base_uri": "https://localhost:8080/"
        },
        "outputId": "a632b1f6-eaa2-422d-9302-b5d065c081f9"
      },
      "execution_count": null,
      "outputs": [
        {
          "output_type": "stream",
          "name": "stdout",
          "text": [
            "nを入力：1\n",
            "*\n"
          ]
        }
      ]
    },
    {
      "cell_type": "markdown",
      "source": [
        "## 課題7"
      ],
      "metadata": {
        "id": "ouqTUmPQIKGF"
      }
    },
    {
      "cell_type": "markdown",
      "source": [
        "for文を使って、以下のように出力してください"
      ],
      "metadata": {
        "id": "WHSxdOHuIMRM"
      }
    },
    {
      "cell_type": "markdown",
      "source": [
        "![IuP0M16.png](https://imgur.com/IuP0M16.png)"
      ],
      "metadata": {
        "id": "-G--WFTkIM8s"
      }
    },
    {
      "cell_type": "code",
      "source": [
        "# 入力用\n",
        "def output():\n",
        "  for a in range(6):\n",
        "    s=''\n",
        "    sp=''\n",
        "    spc=''\n",
        "    for b in range(abs(3-a)):\n",
        "      sp=sp+' '\n",
        "    if(a!=3):\n",
        "      for c in range(abs(3-a)*2-1):\n",
        "        spc=spc+' '\n",
        "      for d in range(7-abs(3-a)*2):\n",
        "          s=s+'*'\n",
        "      print(sp+s+spc+s+sp)\n",
        "    else:\n",
        "        for d in range(13):\n",
        "         s=s+'*'\n",
        "        print(s)\n",
        "  return\n",
        "\n",
        "output()\n",
        "output()\n",
        "print('   *     *')"
      ],
      "metadata": {
        "id": "BVXjDteuIijL",
        "colab": {
          "base_uri": "https://localhost:8080/"
        },
        "outputId": "31db5c74-2ef6-42dc-b4d1-c0f63e0f41c1"
      },
      "execution_count": null,
      "outputs": [
        {
          "output_type": "stream",
          "name": "stdout",
          "text": [
            "   *     *   \n",
            "  ***   ***  \n",
            " ***** ***** \n",
            "*************\n",
            " ***** ***** \n",
            "  ***   ***  \n",
            "   *     *   \n",
            "  ***   ***  \n",
            " ***** ***** \n",
            "*************\n",
            " ***** ***** \n",
            "  ***   ***  \n",
            "   *     *\n"
          ]
        }
      ]
    },
    {
      "cell_type": "markdown",
      "source": [
        "## 課題8"
      ],
      "metadata": {
        "id": "31u0ExX2IjWj"
      }
    },
    {
      "cell_type": "markdown",
      "source": [
        "課題7の場合を`n=4`として、nを自分で設定して出力できるようにしてください"
      ],
      "metadata": {
        "id": "zeOvmKarInpz"
      }
    },
    {
      "cell_type": "markdown",
      "source": [
        "＜例＞ n=5の場合  \n",
        "\n",
        "![AlTnu1k.png](https://imgur.com/AlTnu1k.png)"
      ],
      "metadata": {
        "id": "2uLR5sbKIov2"
      }
    },
    {
      "cell_type": "code",
      "source": [
        "# 入力用\n",
        "def output(n):\n",
        "  for a in range(n*2-2):\n",
        "    s=''\n",
        "    sp=''\n",
        "    spc=''\n",
        "    for b in range(abs(n-1-a)):\n",
        "      sp=sp+' '\n",
        "    if(a!=n-1):\n",
        "      for c in range(abs(n-1-a)*2-1):\n",
        "        spc=spc+' '\n",
        "      for d in range(n*2-1-abs(n-1-a)*2):\n",
        "        s=s+'*'\n",
        "      print(sp+s+spc+s+sp)\n",
        "    else:\n",
        "      for d in range(n*4-3):\n",
        "        s=s+'*'\n",
        "      print(s)\n",
        "  return\n",
        "\n",
        "n=int(input('nを入力：'))\n",
        "output(n)\n",
        "output(n)\n",
        "sp=''\n",
        "spc=''\n",
        "for e in range(n-1):\n",
        "  sp=sp+' '\n",
        "for f in range(n+2):\n",
        "  spc=spc+' '\n",
        "s=sp+'*'+spc+'*'+sp\n",
        "print(s)"
      ],
      "metadata": {
        "id": "TXJaIVbYI_Cd",
        "colab": {
          "base_uri": "https://localhost:8080/"
        },
        "outputId": "c821c7a9-aaf7-4075-e15a-30af5777b513"
      },
      "execution_count": null,
      "outputs": [
        {
          "output_type": "stream",
          "name": "stdout",
          "text": [
            "nを入力：10\n",
            "         *                 *         \n",
            "        ***               ***        \n",
            "       *****             *****       \n",
            "      *******           *******      \n",
            "     *********         *********     \n",
            "    ***********       ***********    \n",
            "   *************     *************   \n",
            "  ***************   ***************  \n",
            " ***************** ***************** \n",
            "*************************************\n",
            " ***************** ***************** \n",
            "  ***************   ***************  \n",
            "   *************     *************   \n",
            "    ***********       ***********    \n",
            "     *********         *********     \n",
            "      *******           *******      \n",
            "       *****             *****       \n",
            "        ***               ***        \n",
            "         *                 *         \n",
            "        ***               ***        \n",
            "       *****             *****       \n",
            "      *******           *******      \n",
            "     *********         *********     \n",
            "    ***********       ***********    \n",
            "   *************     *************   \n",
            "  ***************   ***************  \n",
            " ***************** ***************** \n",
            "*************************************\n",
            " ***************** ***************** \n",
            "  ***************   ***************  \n",
            "   *************     *************   \n",
            "    ***********       ***********    \n",
            "     *********         *********     \n",
            "      *******           *******      \n",
            "       *****             *****       \n",
            "        ***               ***        \n",
            "         *            *         \n"
          ]
        }
      ]
    }
  ]
}