{
  "nbformat": 4,
  "nbformat_minor": 0,
  "metadata": {
    "colab": {
      "provenance": [],
      "include_colab_link": true
    },
    "kernelspec": {
      "name": "python3",
      "display_name": "Python 3"
    },
    "language_info": {
      "name": "python"
    }
  },
  "cells": [
    {
      "cell_type": "markdown",
      "metadata": {
        "id": "view-in-github",
        "colab_type": "text"
      },
      "source": [
        "<a href=\"https://colab.research.google.com/github/yamahira0126/Prmn2023a/blob/main/my_answer/PythonBasic_4_Question.ipynb\" target=\"_parent\"><img src=\"https://colab.research.google.com/assets/colab-badge.svg\" alt=\"Open In Colab\"/></a>"
      ]
    },
    {
      "cell_type": "markdown",
      "source": [
        "<a href=\"https://colab.research.google.com/github/kiryu-3/Prmn2023/blob/main/Python/Python_Basic/question/PythonBasic_4_Question.ipynb\" target=\"_parent\"><img src=\"https://colab.research.google.com/assets/colab-badge.svg\" alt=\"Open In Colab\"/></a>"
      ],
      "metadata": {
        "id": "TA5kKi-LY1xg"
      }
    },
    {
      "cell_type": "markdown",
      "source": [
        "# 第4章 課題"
      ],
      "metadata": {
        "id": "r-kcfL2yEU8b"
      }
    },
    {
      "cell_type": "markdown",
      "source": [
        "## 課題1"
      ],
      "metadata": {
        "id": "UqgRlaNaaWsU"
      }
    },
    {
      "cell_type": "markdown",
      "source": [
        "10から2800まで、10飛ばしの数を乱数で生成し、2220000に足してください。  \n",
        "\n",
        "この数を5つ生成し、一つのリストに格納した後、最終的に頭に\"b\"をつけて5つ出力してください。"
      ],
      "metadata": {
        "id": "dMngS2Dtai7U"
      }
    },
    {
      "cell_type": "markdown",
      "source": [
        "＜実行結果例＞\n",
        "``` py  \n",
        "['b2220400', 'b2221750', 'b2222480', 'b2221720', 'b2220380']\n",
        "```"
      ],
      "metadata": {
        "id": "Ys4Y3shObw3w"
      }
    },
    {
      "cell_type": "code",
      "source": [
        "# 入力用\n",
        "import random as rd\n",
        "\n",
        "student_number=[]\n",
        "for i in range(5):\n",
        "  student=rd.randint(1,280)*10\n",
        "  student_number.append('b'+str(2220000+(student)))\n",
        "print(student_number)"
      ],
      "metadata": {
        "id": "UaBFEY3Hdbsg",
        "colab": {
          "base_uri": "https://localhost:8080/"
        },
        "outputId": "b22bcaa4-8660-4605-b6be-0ea514eed9d4"
      },
      "execution_count": null,
      "outputs": [
        {
          "output_type": "stream",
          "name": "stdout",
          "text": [
            "['b2220910', 'b2220720', 'b2221800', 'b2222500', 'b2221480']\n"
          ]
        }
      ]
    },
    {
      "cell_type": "markdown",
      "source": [
        "## 課題2"
      ],
      "metadata": {
        "id": "yRsfay5_8FuJ"
      }
    },
    {
      "cell_type": "markdown",
      "source": [
        "1桁の自然数を乱数を使って5つ格納した2つのリストを作ってください。  \n",
        "この時、一つのリスト内で5つの値が重複しないようにしてください\n",
        "\n",
        "その後、対応する要素を足し合わせた新しいリストを出力してください"
      ],
      "metadata": {
        "id": "4WbYBFGr8Ht3"
      }
    },
    {
      "cell_type": "markdown",
      "source": [
        "＜実行結果例＞\n",
        "``` py  \n",
        "1つ目のリスト：[1, 2, 3, 4, 5]  \n",
        "2つ目のリスト：[1, 3, 5, 7, 9]  \n",
        "足し合わせたリスト：[2, 5, 8, 11, 14]\n",
        "```"
      ],
      "metadata": {
        "id": "A0ImPPha84Nb"
      }
    },
    {
      "cell_type": "code",
      "source": [
        "# 入力用\n",
        "import random as rd\n",
        "list3=[]\n",
        "\n",
        "def input():\n",
        "  i=0\n",
        "  list=[]\n",
        "  while(i<5):\n",
        "    n=rd.randint(1,9)\n",
        "    if(n in list):\n",
        "      continue\n",
        "    else:\n",
        "      list.append(n)\n",
        "      i=i+1\n",
        "\n",
        "  return list\n",
        "\n",
        "list1=input()\n",
        "list2=input()\n",
        "for i in range(5):\n",
        "  list3.append(list1[i]+list2[i])\n",
        "print(list1)\n",
        "print(list2)\n",
        "print(list3)"
      ],
      "metadata": {
        "id": "TaJm8jn2MHmk",
        "colab": {
          "base_uri": "https://localhost:8080/"
        },
        "outputId": "30ccc735-d9e2-48b5-f0b7-a374c08e6317"
      },
      "execution_count": null,
      "outputs": [
        {
          "output_type": "stream",
          "name": "stdout",
          "text": [
            "[2, 3, 1, 9, 6]\n",
            "[5, 3, 1, 7, 2]\n",
            "[7, 6, 2, 16, 8]\n"
          ]
        }
      ]
    },
    {
      "cell_type": "markdown",
      "source": [
        "## 課題3"
      ],
      "metadata": {
        "id": "-qZw_n3X8xrW"
      }
    },
    {
      "cell_type": "markdown",
      "source": [
        "リストの中身を指定した数で分割してみます。\n",
        "\n",
        "以下のリストには都道府県47つが格納されています。"
      ],
      "metadata": {
        "id": "vxwATeobQf_U"
      }
    },
    {
      "cell_type": "code",
      "source": [
        "todohuken_list = [\n",
        "    '北海道', '青森県', '岩手県', '宮城県', '秋田県', '山形県', '福島県', '茨城県', '栃木県', '群馬県', \n",
        "    '埼玉県', '千葉県', '東京都', '神奈川県', '新潟県', '富山県', '石川県', '福井県', '山梨県', '長野県', \n",
        "    '岐阜県', '静岡県', '愛知県', '三重県', '滋賀県', '京都府', '大阪府', '兵庫県', '奈良県', '和歌山県', \n",
        "    '鳥取県', '島根県', '岡山県', '広島県', '山口県', '徳島県', '香川県', '愛媛県', '高知県',  '福岡県', \n",
        "    '佐賀県', '長崎県', '熊本県', '大分県', '宮崎県', '鹿児島県', '沖縄県',\n",
        "]"
      ],
      "metadata": {
        "id": "8ZdyRWbERGAY"
      },
      "execution_count": null,
      "outputs": []
    },
    {
      "cell_type": "markdown",
      "source": [
        "  \n",
        "これをランダムに1つのリストのサイズを4として分割してください"
      ],
      "metadata": {
        "id": "tGPa1uU6Qs2c"
      }
    },
    {
      "cell_type": "markdown",
      "source": [
        "＜実行結果例＞  \n",
        "``` py \n",
        "[['宮崎県', '茨城県', '栃木県', '千葉県'], … , ['岩手県', '滋賀県', '宮城県']]\n",
        "```"
      ],
      "metadata": {
        "id": "PWLTwz0TXzm_"
      }
    },
    {
      "cell_type": "code",
      "source": [
        "# 入力用\n",
        "import random as rd\n",
        "\n",
        "todohuken_list = [\n",
        "    '北海道', '青森県', '岩手県', '宮城県', '秋田県', '山形県', '福島県', '茨城県', '栃木県', '群馬県', \n",
        "    '埼玉県', '千葉県', '東京都', '神奈川県', '新潟県', '富山県', '石川県', '福井県', '山梨県', '長野県', \n",
        "    '岐阜県', '静岡県', '愛知県', '三重県', '滋賀県', '京都府', '大阪府', '兵庫県', '奈良県', '和歌山県', \n",
        "    '鳥取県', '島根県', '岡山県', '広島県', '山口県', '徳島県', '香川県', '愛媛県', '高知県',  '福岡県', \n",
        "    '佐賀県', '長崎県', '熊本県', '大分県', '宮崎県', '鹿児島県', '沖縄県',\n",
        "]\n",
        "\n",
        "n=0\n",
        "rd.shuffle(todohuken_list)\n",
        "list_todohuken=[]\n",
        "todohuken_list.append('')\n",
        "for i in range(12):\n",
        "  list=[todohuken_list.pop(0) for j in range(4)] \n",
        "  list_todohuken.append(list)\n",
        "print(list_todohuken)"
      ],
      "metadata": {
        "id": "rgPlOseCTC_h",
        "colab": {
          "base_uri": "https://localhost:8080/"
        },
        "outputId": "0b8dce06-3111-4fe6-ad5c-4c49b8d3f771"
      },
      "execution_count": null,
      "outputs": [
        {
          "output_type": "stream",
          "name": "stdout",
          "text": [
            "[['岩手県', '群馬県', '徳島県', '福岡県'], ['山梨県', '宮崎県', '山口県', '長崎県'], ['栃木県', '島根県', '北海道', '宮城県'], ['岐阜県', '石川県', '兵庫県', '神奈川県'], ['奈良県', '静岡県', '富山県', '愛知県'], ['京都府', '滋賀県', '埼玉県', '愛媛県'], ['熊本県', '新潟県', '大阪府', '大分県'], ['佐賀県', '岡山県', '長野県', '福島県'], ['和歌山県', '鹿児島県', '青森県', '福井県'], ['千葉県', '香川県', '茨城県', '秋田県'], ['東京都', '山形県', '高知県', '沖縄県'], ['三重県', '広島県', '鳥取県', '']]\n"
          ]
        }
      ]
    },
    {
      "cell_type": "markdown",
      "source": [
        "## 課題4"
      ],
      "metadata": {
        "id": "W573lh39MOlj"
      }
    },
    {
      "cell_type": "markdown",
      "source": [
        "ある大学の名前と年齢が、次のような形式で格納されたリスト `university_list` があります。"
      ],
      "metadata": {
        "id": "sSIMKY-aNcIx"
      }
    },
    {
      "cell_type": "code",
      "source": [
        "university_list = [\n",
        "    \"Chitose,25\",\n",
        "    \"Hokudai,105\",\n",
        "    \"Muroran,74\",\n",
        "    \"Hakodate,23\",\n",
        "]"
      ],
      "metadata": {
        "id": "v-wGyWuKK3wl"
      },
      "execution_count": null,
      "outputs": []
    },
    {
      "cell_type": "markdown",
      "source": [
        "このリストを、年齢順にソートして、新たなリストとして出力してください"
      ],
      "metadata": {
        "id": "XIxDf9QgO1iH"
      }
    },
    {
      "cell_type": "markdown",
      "source": [
        "＜実行結果＞  \n",
        "``` py\n",
        "['Chitose,25', 'Hokudai,105', 'Muroran,74', 'Hakodate,23']\n",
        "['Hakodate,23', 'Chitose,25', 'Muroran,74', 'Hokudai,105']\n",
        "```"
      ],
      "metadata": {
        "id": "0Z2-_1dAQENU"
      }
    },
    {
      "cell_type": "code",
      "source": [
        "# 入力用\n",
        "print(university_list)\n",
        "list1=[]\n",
        "list3=[]\n",
        "for i in range(4):\n",
        "  list1.append(int(university_list[i].split(\",\")[1]))\n",
        "#print(list1)\n",
        "list2=dict(zip(list1,university_list))\n",
        "#print(list2)\n",
        "list1.sort()\n",
        "#print(list1)\n",
        "for i in range(4):\n",
        "  list3.append(list2[list1[i]])\n",
        "print(list3)"
      ],
      "metadata": {
        "id": "ficNVfkgR5Kv",
        "colab": {
          "base_uri": "https://localhost:8080/"
        },
        "outputId": "f063701c-157f-454b-addf-36b6158e7ca9"
      },
      "execution_count": null,
      "outputs": [
        {
          "output_type": "stream",
          "name": "stdout",
          "text": [
            "['Chitose,25', 'Hokudai,105', 'Muroran,74', 'Hakodate,23']\n",
            "['Hakodate,23', 'Chitose,25', 'Muroran,74', 'Hokudai,105']\n"
          ]
        }
      ]
    },
    {
      "cell_type": "markdown",
      "source": [
        "## 課題5"
      ],
      "metadata": {
        "id": "QijnXk7UWAVC"
      }
    },
    {
      "cell_type": "markdown",
      "source": [
        "**FizzBuzz（フィズ・バズ）問題**という問題について解いていきます。\n",
        "\n",
        "もともとは、英語圏で長距離ドライブ中や飲み会の時に行われる言葉遊びです。"
      ],
      "metadata": {
        "id": "m7F47Q1mWCA6"
      }
    },
    {
      "cell_type": "markdown",
      "source": [
        "以下のような問題になります。\n",
        "\n",
        "1～Nまでの整数を順に出力しなさい。ただし、例外として以下のルールを守ること。\n",
        "\n",
        "* 3で割り切れる数字の場合は\"Fizz\"を出力\n",
        "* 5で割り切れる数字の場合は\"Buzz\"を出力\n",
        "* どちらでも割り切れる数字の場合は\"FizzBuzz\"を出力"
      ],
      "metadata": {
        "id": "fArw0VcNWgwZ"
      }
    },
    {
      "cell_type": "markdown",
      "source": [
        "ここではN=100として、まずは一つのリストに\n",
        "\"Fizz\" か \"Buzz\" か \"FizzBuzz\" か \"others\" を格納してください。\n",
        "\n",
        "その後、それぞれの要素の数をカウントしてください。"
      ],
      "metadata": {
        "id": "SYqkpYstWm7Z"
      }
    },
    {
      "cell_type": "markdown",
      "source": [
        "＜実行結果＞  \n",
        "``` py\n",
        "FizzBuzzの数：6 \n",
        "Fizzの数：27 \n",
        "Buzzの数：14\n",
        "othersの数：53  \n",
        "```"
      ],
      "metadata": {
        "id": "OqLuJTcWYzFt"
      }
    },
    {
      "cell_type": "code",
      "source": [
        "# 入力用\n",
        "N=100\n",
        "F=0\n",
        "B=0\n",
        "FB=0\n",
        "O=0\n",
        "for i in range(N):\n",
        "  j=i+1\n",
        "  if(j%3==0):\n",
        "    if(j%5==0):\n",
        "      FB=FB+1\n",
        "      print(f'{j}=FizzBuzzv',end='')\n",
        "    else:\n",
        "      F=F+1\n",
        "      print(f'{j}=Fizz ',end='')\n",
        "  else:\n",
        "    if(j%5==0):\n",
        "      B=B+1\n",
        "      print(f'{j}=Buzz ',end='')\n",
        "    else:\n",
        "      O=O+1\n",
        "      print(f'{j}=Others ',end='')\n",
        "      \n",
        "print()\n",
        "print(f'Fizzの数:{F}')\n",
        "print(f'Buzzの数:{B}')\n",
        "print(f'FizzBuzzの数:{FB}')\n",
        "print(f'othersの数:{O}')"
      ],
      "metadata": {
        "id": "5kEDaVLmaEpb",
        "colab": {
          "base_uri": "https://localhost:8080/"
        },
        "outputId": "bcd223e1-b5f9-4056-c555-20e9170b45f4"
      },
      "execution_count": null,
      "outputs": [
        {
          "output_type": "stream",
          "name": "stdout",
          "text": [
            "1=Others 2=Others 3=Fizz 4=Others 5=Buzz 6=Fizz 7=Others 8=Others 9=Fizz 10=Buzz 11=Others 12=Fizz 13=Others 14=Others 15=FizzBuzzv16=Others 17=Others 18=Fizz 19=Others 20=Buzz 21=Fizz 22=Others 23=Others 24=Fizz 25=Buzz 26=Others 27=Fizz 28=Others 29=Others 30=FizzBuzzv31=Others 32=Others 33=Fizz 34=Others 35=Buzz 36=Fizz 37=Others 38=Others 39=Fizz 40=Buzz 41=Others 42=Fizz 43=Others 44=Others 45=FizzBuzzv46=Others 47=Others 48=Fizz 49=Others 50=Buzz 51=Fizz 52=Others 53=Others 54=Fizz 55=Buzz 56=Others 57=Fizz 58=Others 59=Others 60=FizzBuzzv61=Others 62=Others 63=Fizz 64=Others 65=Buzz 66=Fizz 67=Others 68=Others 69=Fizz 70=Buzz 71=Others 72=Fizz 73=Others 74=Others 75=FizzBuzzv76=Others 77=Others 78=Fizz 79=Others 80=Buzz 81=Fizz 82=Others 83=Others 84=Fizz 85=Buzz 86=Others 87=Fizz 88=Others 89=Others 90=FizzBuzzv91=Others 92=Others 93=Fizz 94=Others 95=Buzz 96=Fizz 97=Others 98=Others 99=Fizz 100=Buzz \n",
            "Fizzの数:27\n",
            "Buzzの数:14\n",
            "FizzBuzzの数:6\n",
            "othersの数:53\n"
          ]
        }
      ]
    }
  ]
}