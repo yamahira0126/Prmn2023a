{
  "nbformat": 4,
  "nbformat_minor": 0,
  "metadata": {
    "colab": {
      "provenance": [],
      "toc_visible": true,
      "authorship_tag": "ABX9TyOpng3eaA/TAbt6Y27lhjlu",
      "include_colab_link": true
    },
    "kernelspec": {
      "name": "python3",
      "display_name": "Python 3"
    },
    "language_info": {
      "name": "python"
    }
  },
  "cells": [
    {
      "cell_type": "markdown",
      "metadata": {
        "id": "view-in-github",
        "colab_type": "text"
      },
      "source": [
        "<a href=\"https://colab.research.google.com/github/kiryu-3/Prmn2023/blob/main/Python/Python_Basic/text/PythonBasic_1.ipynb\" target=\"_parent\"><img src=\"https://colab.research.google.com/assets/colab-badge.svg\" alt=\"Open In Colab\"/></a>"
      ]
    },
    {
      "cell_type": "markdown",
      "source": [
        "# 第1章"
      ],
      "metadata": {
        "id": "sJmReiA90Dur"
      }
    },
    {
      "cell_type": "markdown",
      "source": [
        "## 変数"
      ],
      "metadata": {
        "id": "YkaUSlO-1Opf"
      }
    },
    {
      "cell_type": "markdown",
      "source": [
        "**変数**は、データを格納するためにコンピュータ内部に準備する箱のようなものです。  \n"
      ],
      "metadata": {
        "id": "4fhDSGR-48Tx"
      }
    },
    {
      "cell_type": "markdown",
      "source": [
        "Pythonで変数を作成する場合は、必ず**変数名**と**セットしたい値**を同時に書く必要があります。"
      ],
      "metadata": {
        "id": "g--IRbJqtzjy"
      }
    },
    {
      "cell_type": "code",
      "execution_count": 1,
      "metadata": {
        "id": "UFALFvlG0DQR",
        "colab": {
          "base_uri": "https://localhost:8080/"
        },
        "outputId": "11cf4a68-6f83-425b-8e89-6351605f4d5d"
      },
      "outputs": [
        {
          "output_type": "stream",
          "name": "stdout",
          "text": [
            "Chitose\n",
            "b1998040\n",
            "25\n"
          ]
        }
      ],
      "source": [
        "name = \"Chitose\"  # nameという変数に、文字列の\"Chitose\"を代入\n",
        "number = \"b1998040\"  # numberという変数に、文字列の\"b1998040\"を代入\n",
        "age = 25  # ageという変数に、整数の\"25\"を代入 \n",
        "\n",
        "print(name)\n",
        "print(number)\n",
        "print(age)"
      ]
    },
    {
      "cell_type": "markdown",
      "source": [
        "### 自己代入\n",
        "変数に入っている数値を利用して計算を行い、再度その変数に書き戻す演算を**自己代入**といいます。"
      ],
      "metadata": {
        "id": "AOa8JOz-F1Tr"
      }
    },
    {
      "cell_type": "code",
      "source": [
        "age = 25\n",
        "\n",
        "# 元の変数に対して4を加算する\n",
        "age = age + 4\n",
        "print(age)"
      ],
      "metadata": {
        "colab": {
          "base_uri": "https://localhost:8080/"
        },
        "id": "PXVORqLyGcR3",
        "outputId": "af37907a-dc12-4ecf-8bcb-ceae5d714c52"
      },
      "execution_count": 2,
      "outputs": [
        {
          "output_type": "stream",
          "name": "stdout",
          "text": [
            "29\n"
          ]
        }
      ]
    },
    {
      "cell_type": "markdown",
      "source": [
        "自己代入には省略形があります。  \n",
        "以下の表を参考にしてください。\n",
        "\n",
        "|代入演算子|  記述例  |  意味  | \n",
        "| ---- | ---- | ---- |    \n",
        "| +=  |  a +=  b  |  a = a + b  |   \n",
        "|  -=  |  a -=  b  |  a = a - b  | \n",
        "|  *=  |  a *=  b  |  a = a * b  | \n",
        "|  /=  |  a /=  b  | a = a / b  |\n",
        "|  //=  |  a //=  b  |  a = a // b  | \n",
        "|  %=  |  a %=  b  |  a = a % b  | \n",
        "|  **=  |  a **=  b  | a = a ** b  |"
      ],
      "metadata": {
        "id": "pqWIvekJGw5C"
      }
    },
    {
      "cell_type": "code",
      "source": [
        "age = 25\n",
        "age += 4\n",
        "print(age)  # 足し算\n",
        "\n",
        "age = 25\n",
        "age -= 4\n",
        "print(age)  # 引き算\n",
        "\n",
        "age = 2\n",
        "age *= 4\n",
        "print(age)  # 掛け算\n",
        "\n",
        "age = 2\n",
        "age **= 4\n",
        "print(age)  # べき乗\n",
        "\n",
        "age = 25\n",
        "age /= 4\n",
        "print(age)  # 割り算（商は実数）\n",
        "\n",
        "age = 25\n",
        "age //= 4\n",
        "print(age)  # 割り算（商は整数）\n",
        "\n",
        "age = 25\n",
        "age %= 4\n",
        "print(age)  # 剰余算"
      ],
      "metadata": {
        "id": "GjlLLlkLIBev",
        "colab": {
          "base_uri": "https://localhost:8080/"
        },
        "outputId": "3110b1f0-14b5-4702-ee18-a3566a73cd1a"
      },
      "execution_count": 3,
      "outputs": [
        {
          "output_type": "stream",
          "name": "stdout",
          "text": [
            "29\n",
            "21\n",
            "8\n",
            "16\n",
            "6.25\n",
            "6\n",
            "1\n"
          ]
        }
      ]
    },
    {
      "cell_type": "markdown",
      "source": [
        "## データ型\n",
        "プログラムで扱うことのできるデータの種類を**データ型**といいます。  \n",
        "Pythonにおけるデータ型は以下表のようなものがあります。\n",
        "\n",
        "|種類|  型  |  例  | \n",
        "| ---- | ---- | ---- |    \n",
        "| 文字列  |  str  |  \"Taro\" , \"b2220000\"  |   \n",
        "|  整数  |  int  |  -12 , 19  | \n",
        "|  浮動小数点数  |  float  |  -0.5 , 19.0  | \n",
        "|  真偽値  |  bool  | True , False  |\n",
        "\n",
        "C言語では他にdouble型、short型、long型などがありますが、Pythonにはありません。"
      ],
      "metadata": {
        "id": "wuwHhDUR-9tx"
      }
    },
    {
      "cell_type": "markdown",
      "source": [
        "**Pythonでは、変数代入した値によってそのデータ型が決まります。**\n",
        "\n",
        "Pythonの柔軟性がよく分かるでしょう。"
      ],
      "metadata": {
        "id": "71nYdnJUEFv2"
      }
    },
    {
      "cell_type": "markdown",
      "source": [
        "### type関数\n",
        "**type関数**を使うと、変数にどのような型の値が格納されているかを調べることができます。"
      ],
      "metadata": {
        "id": "Kfl_ofFXFjLk"
      }
    },
    {
      "cell_type": "code",
      "source": [
        "name = \"Chitose\"\n",
        "number = \"b1998040\"\n",
        "age = 25 \n",
        "\n",
        "print(type(name))\n",
        "print(type(number))\n",
        "print(type(age))"
      ],
      "metadata": {
        "colab": {
          "base_uri": "https://localhost:8080/"
        },
        "id": "priOCf83KmYq",
        "outputId": "d1922e9d-0b9d-401f-8890-78887c1a3764"
      },
      "execution_count": 4,
      "outputs": [
        {
          "output_type": "stream",
          "name": "stdout",
          "text": [
            "<class 'str'>\n",
            "<class 'str'>\n",
            "<class 'int'>\n"
          ]
        }
      ]
    },
    {
      "cell_type": "markdown",
      "source": [
        "### 型変換\n",
        "データ型を別のものに変換する際には、**型変換**（**キャスト**）を行います。\n",
        "\n",
        "**`変換先の型名（式）`** という式になります。"
      ],
      "metadata": {
        "id": "8Xh-2yJhK6MY"
      }
    },
    {
      "cell_type": "code",
      "source": [
        "age = 25 \n",
        "print(type(age))  # 最初は整数型です\n",
        "\n",
        "age = str(age)\n",
        "print(type(age))  # 型変換して文字型になりました"
      ],
      "metadata": {
        "colab": {
          "base_uri": "https://localhost:8080/"
        },
        "id": "48nQexHjLXEY",
        "outputId": "6029c6eb-af33-4359-a532-d8c70a7723f7"
      },
      "execution_count": 5,
      "outputs": [
        {
          "output_type": "stream",
          "name": "stdout",
          "text": [
            "<class 'int'>\n",
            "<class 'str'>\n"
          ]
        }
      ]
    },
    {
      "cell_type": "markdown",
      "source": [
        "整数と浮動小数点数の間で演算が行われる場合は、  \n",
        "浮動小数点数に揃えられてから演算が行われます。  \n",
        "\n",
        "このように自動的に型変換が行われる仕組みを**暗黙の型変換**といいます。  \n",
        "数値と文字の間では行われません。"
      ],
      "metadata": {
        "id": "7HG0TAPwLz5f"
      }
    },
    {
      "cell_type": "code",
      "source": [
        "age = 25\n",
        "print(type(age))\n",
        "\n",
        "plus = 0.5\n",
        "print(type(plus))\n",
        "\n",
        "age += plus  # ageが浮動小数点に揃えられて演算\n",
        "print(type(age))"
      ],
      "metadata": {
        "colab": {
          "base_uri": "https://localhost:8080/"
        },
        "id": "rr_Z6jDJMPU-",
        "outputId": "e78c3ad5-16b2-4e9d-deba-ecabc15abb4a"
      },
      "execution_count": 6,
      "outputs": [
        {
          "output_type": "stream",
          "name": "stdout",
          "text": [
            "<class 'int'>\n",
            "<class 'float'>\n",
            "<class 'float'>\n"
          ]
        }
      ]
    },
    {
      "cell_type": "markdown",
      "source": [
        "## print関数\n",
        "数値型と文字列型を結合することはできません。  \n",
        "そのため、結合したい際は型変換を行う必要があります。"
      ],
      "metadata": {
        "id": "U8K3EPByOy0l"
      }
    },
    {
      "cell_type": "code",
      "source": [
        "name = \"Chitose\"\n",
        "age = 25\n",
        "\n",
        "# 整数ageを文字に型変換\n",
        "print(name + \"さんの年齢は \" + str(age) + \"歳 です\")"
      ],
      "metadata": {
        "colab": {
          "base_uri": "https://localhost:8080/"
        },
        "id": "Vbq3lcKyP2_A",
        "outputId": "59db4fa4-9d00-4fb1-f22b-d9f8f671efe0"
      },
      "execution_count": 7,
      "outputs": [
        {
          "output_type": "stream",
          "name": "stdout",
          "text": [
            "Chitoseさんの年齢は 25歳 です\n"
          ]
        }
      ]
    },
    {
      "cell_type": "markdown",
      "source": [
        "しかしいちいち型変換を行って出力するのは手間です。 \n",
        "\n",
        "プログラムを簡潔に書くために、以下のような表現を使いましょう。"
      ],
      "metadata": {
        "id": "VW1FlIbyQ0jl"
      }
    },
    {
      "cell_type": "markdown",
      "source": [
        "### formatメソッド\n",
        "**formatメソッド**を利用することで、ある文字列の様々な場所に逐一値を埋め込むことができます。\n",
        "\n",
        "値を埋め込みたい場所に「**{}**（**プレースホルダー**）」を書きます。  \n",
        "formatのカッコ内に、埋め込みたい値をカンマ区切りで並べます。"
      ],
      "metadata": {
        "id": "flUAVYv2R5H0"
      }
    },
    {
      "cell_type": "code",
      "source": [
        "name = \"Chitose\"\n",
        "age = 25\n",
        "\n",
        "print(\"{}さんの年齢は {}歳 です \".format(name,age))"
      ],
      "metadata": {
        "colab": {
          "base_uri": "https://localhost:8080/"
        },
        "id": "p4Q4ZxBfSRrs",
        "outputId": "90cd2eff-090f-408b-bef1-a332dff38afe"
      },
      "execution_count": 8,
      "outputs": [
        {
          "output_type": "stream",
          "name": "stdout",
          "text": [
            "Chitoseさんの年齢は 25歳 です \n"
          ]
        }
      ]
    },
    {
      "cell_type": "markdown",
      "source": [
        "formatメソッドを使って書式指定を行いたい際は、[こちら](https://www.javadrive.jp/python/string/index24.html)のサイトを参考にしてください。"
      ],
      "metadata": {
        "id": "rdIwR209UHPj"
      }
    },
    {
      "cell_type": "markdown",
      "source": [
        "### f文字列\n",
        "**f文字列**を利用することで、formatメソッドによる処理をさらに簡潔化できます。\n",
        "\n",
        "プレースホルダーの中に埋め込みたい値を入れることができます。  \n",
        "式を記述することもできます。\n",
        "\n"
      ],
      "metadata": {
        "id": "mSxuPm-SUoD2"
      }
    },
    {
      "cell_type": "code",
      "source": [
        "name = \"Chitose\"\n",
        "age = 25\n",
        "\n",
        "print(f\"{name}さんの年齢は {age}歳 です \")\n",
        "print(f\"4年後は {age+4}歳 です\")"
      ],
      "metadata": {
        "colab": {
          "base_uri": "https://localhost:8080/"
        },
        "id": "lmDBBokeVfGU",
        "outputId": "0850e1c5-64b0-4305-ec2a-b6dda770c559"
      },
      "execution_count": 9,
      "outputs": [
        {
          "output_type": "stream",
          "name": "stdout",
          "text": [
            "Chitoseさんの年齢は 25歳 です \n",
            "4年後は 29歳 です\n"
          ]
        }
      ]
    },
    {
      "cell_type": "markdown",
      "source": [
        "f文字列を使って書式指定を行いたい際は、[こちら](https://www.javadrive.jp/python/string/index25.html)のサイトを参考にしてください。"
      ],
      "metadata": {
        "id": "FTglN3OMY9ZV"
      }
    },
    {
      "cell_type": "markdown",
      "source": [
        "## input関数\n",
        "変数には、キーボードから入力した文字列や数字を代入することができます。  \n",
        "そのような入力を行える関数が**input関数**です。  \n",
        "\n",
        "input関数で入力された値は**文字列型**として扱われます。注意してください。"
      ],
      "metadata": {
        "id": "plh2_4ucV-g7"
      }
    },
    {
      "cell_type": "code",
      "source": [
        "name = \"Chitose\"\n",
        "\n",
        "print(\"年齢を入力してください\")\n",
        "age = input()  # 入力するよう促されます\n",
        "\n",
        "print(f\"{name}さんの年齢は {age}歳 です \")\n",
        "print(f\"4年後は {int(age)+4}歳 です\")  # ageは文字列型なので整数型に変換しています"
      ],
      "metadata": {
        "colab": {
          "base_uri": "https://localhost:8080/"
        },
        "id": "C57RiZ0SWiNj",
        "outputId": "056e6fdf-d202-4ee4-b6fc-0e564daadfbc"
      },
      "execution_count": 22,
      "outputs": [
        {
          "output_type": "stream",
          "name": "stdout",
          "text": [
            "年齢を入力してください\n",
            "24\n",
            "Chitoseさんの年齢は 24歳 です \n",
            "4年後は 28歳 です\n"
          ]
        }
      ]
    },
    {
      "cell_type": "markdown",
      "source": [
        "input関数では引数で入力を促すメッセージを指定することが可能です。"
      ],
      "metadata": {
        "id": "UqPH3w9CXbmh"
      }
    },
    {
      "cell_type": "code",
      "source": [
        "name = \"Chitose\"\n",
        "\n",
        "age = input(\"年齢を入力してください\\n\")  # 引数でメッセージ指定\n",
        "\n",
        "print(f\"{name}さんの年齢は {age}歳 です \")\n",
        "print(f\"4年後は {int(age)+4}歳 です\")  # ageは文字列型なので整数型に変換しています"
      ],
      "metadata": {
        "colab": {
          "base_uri": "https://localhost:8080/"
        },
        "id": "AqniXb2qXTGh",
        "outputId": "bc45efe6-e36b-4122-e209-e7679d282e44"
      },
      "execution_count": 23,
      "outputs": [
        {
          "output_type": "stream",
          "name": "stdout",
          "text": [
            "年齢を入力してください\n",
            "24\n",
            "Chitoseさんの年齢は 24歳 です \n",
            "4年後は 28歳 です\n"
          ]
        }
      ]
    },
    {
      "cell_type": "markdown",
      "source": [
        "## 乱数\n",
        "**乱数**とは、ランダムで何が出るか分からない数字のことです。  \n",
        "確率・統計的な処理や、数値シミュレーションには欠かせません。  \n",
        "\n",
        "Pythonで乱数を扱う場合、標準ライブラリの**random**をインポートする必要があります。  \n",
        "使う前に「random import」の記述が必要です。\n",
        "以下にまとめたものを示します。\n",
        "\n"
      ],
      "metadata": {
        "id": "7VsWDX61nFns"
      }
    },
    {
      "cell_type": "markdown",
      "source": [
        "||書き方|意味|  \n",
        "|:---:|:---|:---| \n",
        "|1|random.random()|数字をランダムに表示|  \n",
        "|2|random.randint ( 開始数 , 終了数 ) |ランダムに一つだけint値（整数値）を表示|  \n",
        "|3|random.uniform ( 開始数 , 終了数 )|ランダムに 一つだけfloat値（実数値）を表示|  \n",
        "|4|random.choice(データ)|データの中でランダムに一つだけ要素を表示|\n",
        "|5|random.shuffle(リスト)|リストの中の要素をシャッフルしてランダムに一つだけ要素を表示|  "
      ],
      "metadata": {
        "id": "C6ofbyMXnfva"
      }
    },
    {
      "cell_type": "markdown",
      "source": [
        "### random.random()\n",
        "**0.0以上、1.0未満**のランダムな実数を返します。  \n",
        "()内にデータなどを入れてしまうとエラーが起こります。   "
      ],
      "metadata": {
        "id": "Sgu8nHZKnizS"
      }
    },
    {
      "cell_type": "markdown",
      "source": [
        "### random.randint ( 開始数 , 終了数 )\n",
        "**最小値 ≦ N ≦ 最大値**となるランダムな整数Nを返します。  \n",
        "以下のコードは、0~20の中から整数値をランダムに選んでいます。"
      ],
      "metadata": {
        "id": "yRP7QDYBnlKq"
      }
    },
    {
      "cell_type": "code",
      "source": [
        "import random\n",
        "random.randint(0,20)"
      ],
      "metadata": {
        "id": "TB_qNDU2noUa",
        "colab": {
          "base_uri": "https://localhost:8080/"
        },
        "outputId": "2b87fd50-0610-4c22-a1fb-b775c3b92171"
      },
      "execution_count": 12,
      "outputs": [
        {
          "output_type": "execute_result",
          "data": {
            "text/plain": [
              "8"
            ]
          },
          "metadata": {},
          "execution_count": 12
        }
      ]
    },
    {
      "cell_type": "markdown",
      "source": [
        "### random.uniform ( 開始数 , 終了数 )\n",
        "**最小値 ≦ N ≦ 最大値**となるランダムな実数Nを返します。  \n",
        "以下のコードは、0~20の中から実数値をランダムに選んでいます。  "
      ],
      "metadata": {
        "id": "thI0WuFhnqUi"
      }
    },
    {
      "cell_type": "code",
      "source": [
        "import random\n",
        "random.uniform(0,20)"
      ],
      "metadata": {
        "id": "Jqi93mhbntma",
        "colab": {
          "base_uri": "https://localhost:8080/"
        },
        "outputId": "d1519554-5358-4390-eaf4-628ccfb537fe"
      },
      "execution_count": 13,
      "outputs": [
        {
          "output_type": "execute_result",
          "data": {
            "text/plain": [
              "4.641962820462695"
            ]
          },
          "metadata": {},
          "execution_count": 13
        }
      ]
    },
    {
      "cell_type": "markdown",
      "source": [
        "### random.choice(データ)\n",
        "**文字列**など（他に**リスト**、**タプル**、**range**）のデータからランダムに要素を1つ選んで返します。  \n",
        "以下のコードは、文字列の中からランダムな文字を表示するプログラムです。"
      ],
      "metadata": {
        "id": "F8ixf8GUnzFK"
      }
    },
    {
      "cell_type": "code",
      "source": [
        "import random\n",
        "random.choice(\"ABCD\")"
      ],
      "metadata": {
        "id": "l5n44yz4nywK",
        "colab": {
          "base_uri": "https://localhost:8080/",
          "height": 35
        },
        "outputId": "7297a6a8-694a-440b-ad31-6477141c777e"
      },
      "execution_count": 14,
      "outputs": [
        {
          "output_type": "execute_result",
          "data": {
            "text/plain": [
              "'C'"
            ],
            "application/vnd.google.colaboratory.intrinsic+json": {
              "type": "string"
            }
          },
          "metadata": {},
          "execution_count": 14
        }
      ]
    },
    {
      "cell_type": "markdown",
      "source": [
        "### random.shuffle(リスト)\n",
        "リスト（今後学習、C言語の配列に近い）の要素をランダムにシャッフルします。    \n",
        "\n",
        "以下のコードは、クラスの番号4つが含まれているリストを用意し、4つの要素をシャッフルしたリストclassを表示するプログラムです。"
      ],
      "metadata": {
        "id": "AGO1yS67n22B"
      }
    },
    {
      "cell_type": "code",
      "source": [
        "import random\n",
        "ABC_list = ['A', 'B', 'C', 'D']\n",
        "random.shuffle(ABC_list)\n",
        "print(ABC_list)"
      ],
      "metadata": {
        "id": "PrQvcmoxn3xS",
        "colab": {
          "base_uri": "https://localhost:8080/"
        },
        "outputId": "98772cfd-c14c-431c-ebe3-9263a641cdb8"
      },
      "execution_count": 15,
      "outputs": [
        {
          "output_type": "stream",
          "name": "stdout",
          "text": [
            "['D', 'A', 'C', 'B']\n"
          ]
        }
      ]
    },
    {
      "cell_type": "markdown",
      "source": [
        "# 第1章補足"
      ],
      "metadata": {
        "id": "KUSy20IbYXj_"
      }
    },
    {
      "cell_type": "markdown",
      "source": [
        "## インクリメント・デクリメント演算子\n",
        "インクリメント・デクリメント演算子は、Pythonにはありません。  \n",
        "自己代入演算子で代用しましょう。"
      ],
      "metadata": {
        "id": "-AYJ62BSYYnv"
      }
    },
    {
      "cell_type": "code",
      "source": [
        "count = 1\n",
        "\n",
        "# count++ としたいですが…できません\n",
        "\n",
        "count += 1\n",
        "count += 1\n",
        "count += 1\n",
        "print(count)"
      ],
      "metadata": {
        "id": "_DRZ1mWqYmH6",
        "colab": {
          "base_uri": "https://localhost:8080/"
        },
        "outputId": "c0490022-d0da-444a-fe6c-5acc5bafcc0f"
      },
      "execution_count": 16,
      "outputs": [
        {
          "output_type": "stream",
          "name": "stdout",
          "text": [
            "4\n"
          ]
        }
      ]
    },
    {
      "cell_type": "markdown",
      "source": [
        "## len関数\n",
        "**len関数**を用いると、文字数をカウントすることができます。"
      ],
      "metadata": {
        "id": "fJmleEeoaeOr"
      }
    },
    {
      "cell_type": "code",
      "source": [
        "# \"これは文字です\"を変数sに代入\n",
        "s = 'これは文字です'\n",
        "\n",
        "# 文字型変数sの長さを出力\n",
        "print(len(s))"
      ],
      "metadata": {
        "id": "gPGTUa8KaxZb",
        "colab": {
          "base_uri": "https://localhost:8080/"
        },
        "outputId": "854b5a74-2d2b-4094-bf9e-46d14e39564d"
      },
      "execution_count": 17,
      "outputs": [
        {
          "output_type": "stream",
          "name": "stdout",
          "text": [
            "7\n"
          ]
        }
      ]
    },
    {
      "cell_type": "markdown",
      "source": [
        "## 文字列とインデックス\n",
        "文字列の場合、**添え字**（**インデックス**）を指定することで、特定の文字を取得できます。  \n",
        "添え字は**1ではなく0からスタートします**。 \n",
        " \n",
        "![pp_01_2.png](data:image/png;base64,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)\n",
        "\n",
        "以下のコードでは、文字列の1文字目を取得しています。"
      ],
      "metadata": {
        "id": "t4252hw5mab2"
      }
    },
    {
      "cell_type": "code",
      "source": [
        "# \"b2223456\"を変数numberに代入\n",
        "number = \"b1998040\"\n",
        "# numberから「b」だけ取得する\n",
        "print(number[0])"
      ],
      "metadata": {
        "id": "2xJ-iRhymgqW",
        "colab": {
          "base_uri": "https://localhost:8080/"
        },
        "outputId": "f791f797-5745-4ad4-fa7a-cc47f0ef3ebd"
      },
      "execution_count": 18,
      "outputs": [
        {
          "output_type": "stream",
          "name": "stdout",
          "text": [
            "b\n"
          ]
        }
      ]
    },
    {
      "cell_type": "markdown",
      "source": [
        "負の数を指定すると、末尾からの順番で指定することもできます。"
      ],
      "metadata": {
        "id": "zD46h5OqmvSc"
      }
    },
    {
      "cell_type": "code",
      "source": [
        "# numberから最後の文字「0」を取得する\n",
        "print(number[-1])"
      ],
      "metadata": {
        "id": "_LncE76Cmxze",
        "colab": {
          "base_uri": "https://localhost:8080/"
        },
        "outputId": "74a2de98-a1a1-44dc-ae47-dd3e381f732b"
      },
      "execution_count": 19,
      "outputs": [
        {
          "output_type": "stream",
          "name": "stdout",
          "text": [
            "0\n"
          ]
        }
      ]
    },
    {
      "cell_type": "markdown",
      "source": [
        "以下のコードでは、複数の文字をまとめて取得しています。  \n",
        "このとき、**スライス**という構文を用います。"
      ],
      "metadata": {
        "id": "SMB-YGYVaYZM"
      }
    },
    {
      "cell_type": "markdown",
      "source": [
        "\n",
        "\n",
        "![pp_01_1.png](data:image/png;base64,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)  \n",
        "※`A`は**開始値**。`A:`と`B`を指定しなかった場合は添え字が`A`以上のすべての要素を参照する  \n",
        "※`B`は**終了値**。`:B`と`A`を指定しなかった場合は添え字が`B`未満のすべての要素を参照する  \n",
        "※`C`は**増減値**。`A:B`と`C`を指定しなかった場合は増減値は「+1」となる  \n",
        "※`:`とだけ指定すると、すべての要素を参照する"
      ],
      "metadata": {
        "id": "WrctNLPqmijG"
      }
    },
    {
      "cell_type": "code",
      "source": [
        "# numberから「b199」を取得する\n",
        "print(number[0:4])\n",
        "# 以下のように省略可能\n",
        "print(number[:4])\n",
        "#インデックス4以降を取得\n",
        "print(number[4:])\n",
        "\n",
        "#2文字おきに取り出す\n",
        "print(number[::2])"
      ],
      "metadata": {
        "id": "9VBG8GKomo7F",
        "colab": {
          "base_uri": "https://localhost:8080/"
        },
        "outputId": "ce594c5e-f905-4a0e-f27c-74d2ee0addb5"
      },
      "execution_count": 20,
      "outputs": [
        {
          "output_type": "stream",
          "name": "stdout",
          "text": [
            "b199\n",
            "b199\n",
            "8040\n",
            "b984\n"
          ]
        }
      ]
    },
    {
      "cell_type": "markdown",
      "source": [
        "増減値を負の数にすると、逆順にして取り出すことができます。"
      ],
      "metadata": {
        "id": "-pRw2Lecmrs9"
      }
    },
    {
      "cell_type": "code",
      "source": [
        "# 逆順にして取り出す\n",
        "print(number[::-1])"
      ],
      "metadata": {
        "id": "zh2S97XImt6d",
        "colab": {
          "base_uri": "https://localhost:8080/"
        },
        "outputId": "0e08364c-3796-42e7-83b0-26cfd70c3e69"
      },
      "execution_count": 21,
      "outputs": [
        {
          "output_type": "stream",
          "name": "stdout",
          "text": [
            "0408991b\n"
          ]
        }
      ]
    }
  ]
}
